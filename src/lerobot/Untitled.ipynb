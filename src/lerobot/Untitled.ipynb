{
 "cells": [
  {
   "cell_type": "code",
   "execution_count": 6,
   "id": "48c8b30f-fdf2-4484-a540-88cccfc24907",
   "metadata": {},
   "outputs": [],
   "source": [
    "import modal\n",
    "\n",
    "app = modal.App()\n",
    "\n",
    "@app.function()\n",
    "def my_function(x):\n",
    "    print(f\"result: {x**x}\")"
   ]
  },
  {
   "cell_type": "code",
   "execution_count": 7,
   "id": "f5564afc-a498-4620-8d35-6f02b7e07fee",
   "metadata": {},
   "outputs": [
    {
     "name": "stdout",
     "output_type": "stream",
     "text": [
      "\u001b[2K\u001b[32m✓\u001b[0m Initialized. \u001b[37mView run at \u001b[0m\n",
      "\u001b[4;37mhttps://modal.com/apps/elias-nuwara/main/ap-zevdxIHqNX7cjXcksWOeY4\u001b[0m\n",
      "\u001b[2K\u001b[34m⠋\u001b[0m Initializing...\n",
      "\u001b[2K\u001b[34m⠸\u001b[0m Creating objects...objects...\n",
      "\u001b[2K\u001b[1A\u001b[2K\u001b[34m⠸\u001b[0m Creating objects...my_function...\n",
      "\u001b[37m└── \u001b[0m🔨 Created function my_function.\n",
      "\u001b[1A\u001b[2K\u001b[1A\u001b[2K\u001b[32m✓\u001b[0m Created objects.\n",
      "\u001b[37m└── \u001b[0m🔨 Created function my_function.\n",
      "\u001b[2K\u001b[34m⠦\u001b[0m \u001b[34mWorker assigned...\u001b[0m \u001b[37mView app at \u001b[0m\n",
      "\u001b[2K\u001b[1A\u001b[2K\u001b[34m⠏\u001b[0m \u001b[34mRunning...\u001b[0m \u001b[37mView app at \u001b[0mXcksWOeY4\u001b[0m\n",
      "\u001b[2K\u001b[1A\u001b[2K\u001b[34m⠹\u001b[0m \u001b[34mLoading images (1 containers initializing)...\u001b[0m \u001b[37mView app at \u001b[0m\n",
      "\u001b[2K\u001b[1A\u001b[2K\u001b[34m⠴\u001b[0m \u001b[34mLoading images (1 containers initializing)...\u001b[0m \u001b[37mView app at \u001b[0m\n",
      "\u001b[2K\u001b[1A\u001b[2K\u001b[34m⠏\u001b[0m \u001b[34mLoading images (1 containers initializing)...\u001b[0m \u001b[37mView app at \u001b[0m\n",
      "\u001b[2K\u001b[1A\u001b[2K\u001b[34m⠹\u001b[0m \u001b[34mLoading images (1 containers initializing)...\u001b[0m \u001b[37mView app at \u001b[0m\n",
      "\u001b[2K\u001b[1A\u001b[2K\u001b[34m⠴\u001b[0m \u001b[34mLoading images (1 containers initializing)...\u001b[0m \u001b[37mView app at \u001b[0m\n",
      "\u001b[2K\u001b[1A\u001b[2K\u001b[34m⠇\u001b[0m \u001b[34mRunning (1/1 containers active)...\u001b[0m \u001b[37mView app at \u001b[0m\n",
      "\u001b[2K\u001b[1A\u001b[2K\u001b[34mresult: 150130937545296572356771972164254457814047970568738777235893533016064\n",
      "\u001b[2K\u001b[34m⠇\u001b[0m \u001b[34mRunning (1/1 containers active)...\u001b[0m \u001b[37mView app at \u001b[0m7mView app at \u001b[0m\u001b[4;37mhttps://modal.com/apps/elias-nu\u001b[0m\n",
      "\u001b[4;37mhttps://modal.com/apps/elias-nuwara/main/ap-zevdxIHqNX7cjXcksWOeY4\u001b[0m\n",
      "\u001b[1A\u001b[2K\u001b[1A\u001b[2K\u001b[33mStopping app - local entrypoint completed.\n",
      "\u001b[0m\u001b[32m✓\u001b[0m App completed. \u001b[37mView run at \u001b[0m\n",
      "\u001b[4;37mhttps://modal.com/apps/elias-nuwara/main/ap-zevdxIHqNX7cjXcksWOeY4\u001b[0m\n"
     ]
    }
   ],
   "source": [
    "with modal.enable_output():\n",
    "    with app.run():\n",
    "        my_function.remote(42)"
   ]
  },
  {
   "cell_type": "code",
   "execution_count": null,
   "id": "d6178e40-d9ab-4ba8-a120-024a7a3617cc",
   "metadata": {},
   "outputs": [],
   "source": []
  }
 ],
 "metadata": {
  "kernelspec": {
   "display_name": "Python 3 (ipykernel)",
   "language": "python",
   "name": "python3"
  },
  "language_info": {
   "codemirror_mode": {
    "name": "ipython",
    "version": 3
   },
   "file_extension": ".py",
   "mimetype": "text/x-python",
   "name": "python",
   "nbconvert_exporter": "python",
   "pygments_lexer": "ipython3",
   "version": "3.13.5"
  }
 },
 "nbformat": 4,
 "nbformat_minor": 5
}
