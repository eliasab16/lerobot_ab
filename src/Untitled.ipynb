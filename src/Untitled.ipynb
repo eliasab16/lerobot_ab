{
 "cells": [
  {
   "cell_type": "code",
   "execution_count": 1,
   "id": "321e21c4-05e5-4974-8a71-1c4e839afcb6",
   "metadata": {},
   "outputs": [],
   "source": [
    "import hid"
   ]
  },
  {
   "cell_type": "code",
   "execution_count": 2,
   "id": "67d56ada-a728-4f9b-87f1-f780ba6f978e",
   "metadata": {},
   "outputs": [],
   "source": [
    "list1 = [device[\"product_string\"] for device in hid.enumerate()]"
   ]
  },
  {
   "cell_type": "code",
   "execution_count": 3,
   "id": "28b1c5d6-62eb-4588-b6e9-5967a1e7c08d",
   "metadata": {},
   "outputs": [],
   "source": [
    "list2 = [device[\"product_string\"] for device in hid.enumerate()]"
   ]
  },
  {
   "cell_type": "code",
   "execution_count": 4,
   "id": "79921213-2622-4540-9b48-888e53c56fee",
   "metadata": {},
   "outputs": [
    {
     "data": {
      "text/plain": [
       "{'Controller', 'DualSense Wireless Controller'}"
      ]
     },
     "execution_count": 4,
     "metadata": {},
     "output_type": "execute_result"
    }
   ],
   "source": [
    "set(list1) - set(list2)"
   ]
  },
  {
   "cell_type": "code",
   "execution_count": 2,
   "id": "1e309a97-3f11-4154-ae7c-420934231c4f",
   "metadata": {},
   "outputs": [],
   "source": [
    "import cv2"
   ]
  },
  {
   "cell_type": "code",
   "execution_count": 3,
   "id": "3f187744-49da-4a71-9cea-c84869b7825c",
   "metadata": {
    "scrolled": true
   },
   "outputs": [
    {
     "name": "stderr",
     "output_type": "stream",
     "text": [
      "2025-07-27 18:02:43.199 python3.13[7572:522934] WARNING: AVCaptureDeviceTypeExternal is deprecated for Continuity Cameras. Please use AVCaptureDeviceTypeContinuityCamera and add NSCameraUseContinuityCameraDeviceType to your Info.plist.\n"
     ]
    },
    {
     "name": "stdout",
     "output_type": "stream",
     "text": [
      "Camera 1: SUCCESS\n",
      "Camera 0: SUCCESS\n",
      "Camera 2: SUCCESS\n",
      "Camera 3: SUCCESS\n"
     ]
    }
   ],
   "source": [
    "cameras_to_test = [1, 0, 2, 3]  # Open camera 2 first\n",
    "for cam_id in cameras_to_test:\n",
    "    cap = cv2.VideoCapture(cam_id)\n",
    "    ret, frame = cap.read()\n",
    "    print(f\"Camera {cam_id}: {'SUCCESS' if ret else 'FAILED'}\")\n",
    "    cap.release()"
   ]
  },
  {
   "cell_type": "code",
   "execution_count": 5,
   "id": "a2b0de4a-7537-49f9-912d-929578ba70a0",
   "metadata": {},
   "outputs": [
    {
     "name": "stdout",
     "output_type": "stream",
     "text": [
      "=== Opening all cameras first ===\n",
      "Camera 0 opened: True\n",
      "Camera 1 opened: True\n",
      "Camera 2 opened: True\n",
      "Camera 3 opened: True\n",
      "Camera 0 read: FAILED\n",
      "Camera 1 read: SUCCESS\n",
      "Camera 2 read: SUCCESS\n",
      "Camera 3 read: SUCCESS\n",
      "\n",
      "=== Opening cameras one by one ===\n",
      "Camera 0: FAILED\n",
      "Camera 1: SUCCESS\n",
      "Camera 2: SUCCESS\n",
      "Camera 3: SUCCESS\n"
     ]
    }
   ],
   "source": [
    "import time\n",
    "\n",
    "# Test 1: Open all cameras, then read\n",
    "print(\"=== Opening all cameras first ===\")\n",
    "caps = []\n",
    "for i in range(4):\n",
    "    cap = cv2.VideoCapture(i)\n",
    "    caps.append(cap)\n",
    "    print(f\"Camera {i} opened: {cap.isOpened()}\")\n",
    "\n",
    "# Small delay then try reading\n",
    "time.sleep(1)\n",
    "for i, cap in enumerate(caps):\n",
    "    ret, frame = cap.read()\n",
    "    print(f\"Camera {i} read: {'SUCCESS' if ret else 'FAILED'}\")\n",
    "\n",
    "# Clean up\n",
    "for cap in caps:\n",
    "    cap.release()\n",
    "\n",
    "print(\"\\n=== Opening cameras one by one ===\")\n",
    "# Test 2: Open one, read, close, repeat\n",
    "for i in range(4):\n",
    "    cap = cv2.VideoCapture(i)\n",
    "    time.sleep(0.5)  # Give time to initialize\n",
    "    ret, frame = cap.read()\n",
    "    print(f\"Camera {i}: {'SUCCESS' if ret else 'FAILED'}\")\n",
    "    cap.release()\n",
    "\n",
    "    time.sleep(0.5)"
   ]
  },
  {
   "cell_type": "code",
   "execution_count": null,
   "id": "42984567-d10a-4cbb-bbb1-83bbc32dd322",
   "metadata": {},
   "outputs": [],
   "source": []
  }
 ],
 "metadata": {
  "kernelspec": {
   "display_name": "Python 3 (ipykernel)",
   "language": "python",
   "name": "python3"
  },
  "language_info": {
   "codemirror_mode": {
    "name": "ipython",
    "version": 3
   },
   "file_extension": ".py",
   "mimetype": "text/x-python",
   "name": "python",
   "nbconvert_exporter": "python",
   "pygments_lexer": "ipython3",
   "version": "3.13.5"
  }
 },
 "nbformat": 4,
 "nbformat_minor": 5
}
