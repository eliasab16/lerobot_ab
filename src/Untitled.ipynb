{
 "cells": [
  {
   "cell_type": "code",
   "execution_count": 1,
   "id": "321e21c4-05e5-4974-8a71-1c4e839afcb6",
   "metadata": {},
   "outputs": [],
   "source": [
    "import hid"
   ]
  },
  {
   "cell_type": "code",
   "execution_count": 2,
   "id": "67d56ada-a728-4f9b-87f1-f780ba6f978e",
   "metadata": {},
   "outputs": [],
   "source": [
    "list1 = [device[\"product_string\"] for device in hid.enumerate()]"
   ]
  },
  {
   "cell_type": "code",
   "execution_count": 3,
   "id": "28b1c5d6-62eb-4588-b6e9-5967a1e7c08d",
   "metadata": {},
   "outputs": [],
   "source": [
    "list2 = [device[\"product_string\"] for device in hid.enumerate()]"
   ]
  },
  {
   "cell_type": "code",
   "execution_count": 4,
   "id": "79921213-2622-4540-9b48-888e53c56fee",
   "metadata": {},
   "outputs": [
    {
     "data": {
      "text/plain": [
       "{'Controller', 'DualSense Wireless Controller'}"
      ]
     },
     "execution_count": 4,
     "metadata": {},
     "output_type": "execute_result"
    }
   ],
   "source": [
    "set(list1) - set(list2)"
   ]
  },
  {
   "cell_type": "code",
   "execution_count": null,
   "id": "1e309a97-3f11-4154-ae7c-420934231c4f",
   "metadata": {},
   "outputs": [],
   "source": []
  }
 ],
 "metadata": {
  "kernelspec": {
   "display_name": "Python 3 (ipykernel)",
   "language": "python",
   "name": "python3"
  },
  "language_info": {
   "codemirror_mode": {
    "name": "ipython",
    "version": 3
   },
   "file_extension": ".py",
   "mimetype": "text/x-python",
   "name": "python",
   "nbconvert_exporter": "python",
   "pygments_lexer": "ipython3",
   "version": "3.13.5"
  }
 },
 "nbformat": 4,
 "nbformat_minor": 5
}
